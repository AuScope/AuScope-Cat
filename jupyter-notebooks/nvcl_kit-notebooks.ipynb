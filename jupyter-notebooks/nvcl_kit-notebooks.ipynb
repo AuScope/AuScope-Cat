{
 "cells": [
  {
   "cell_type": "markdown",
   "id": "3b8eff62",
   "metadata": {},
   "source": [
    "## Jupyter notebooks demonstrating NVCL_KIT\n",
    "\n",
    "| Name | Description |\n",
    "| ------ | ------ |\n",
    "| 3d-plot.ipynb | 3D view for NVCL boreholes with mineral classfication color| \n",
    "| NVCL_NMM_v2.ipynb | Build national mineral map for a particular mineral | \n",
    "| NonHyperspectral.ipynb | Retrieve element names and unit suffixes from non-hyperspectral datasets in the NVCL Data Services | \n",
    "| Spectrallog_Reflectance.ipynb | Query NVCL Dataservices and display a plot of a spectral reflectance log | \n",
    "| core_image.ipynb| NVCL Core Image Demonstration | \n",
    "| downhole_mineral_plots.ipynb | NVCL Downhole Mineral Plot Demonstration| \n",
    "| downlod_reflectance_spectra.ipynb |  Download NVCL raw spectral reflectance data to csv files| \n",
    "| dumbells.ipynb| Dumbell Plot for a NVCL borehole | \n",
    "| findNSWReports.ipynb | List NVCL boreholes with linked reports from NSW| \n",
    "| plots.ipynb | Demonstrates three different kinds of mineral plots of mineral abundance vs. depth | \n",
    "| profilometer_dataset.ipynb | Profilometer dataset demonstration notebook |\n",
    "| scalar_classes.ipynb | Displays depth, abundance, and mineral name for a NVCL borehole | \n",
    "| scatter.ipynb | Scatter plot for a NVCL borehole | \n",
    "| tray_image.ipynb | NVCL Tray Image Demonstration|\n",
    "| Source code | https://github.com/AuScope/nvcl_kit/tree/master/notebooks|\n",
    "| Trial nvcl_kit on Binder | [![Binder](https://mybinder.org/badge_logo.svg)](https://mybinder.org/v2/gh/AuScope/nvcl_kit/HEAD)|\n",
    "\n"
   ]
  }
 ],
 "metadata": {
  "kernelspec": {
   "display_name": "Python 3",
   "language": "python",
   "name": "python3"
  },
  "language_info": {
   "codemirror_mode": {
    "name": "ipython",
    "version": 3
   },
   "file_extension": ".py",
   "mimetype": "text/x-python",
   "name": "python",
   "nbconvert_exporter": "python",
   "pygments_lexer": "ipython3",
   "version": "3.13.1"
  }
 },
 "nbformat": 4,
 "nbformat_minor": 5
}
