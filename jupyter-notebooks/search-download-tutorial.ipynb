{
 "cells": [
  {
   "cell_type": "markdown",
   "metadata": {},
   "source": [
    "## AuScope-Cat Search and Download Tutorial\n",
    "https://pypi.org/project/auscopecat/\n",
    "\n",
    "The AuScope-Cat library has been created to facilitate easy programmatic searching of the AuScope Portal catalogue of data, and allow for easy easy downloads of available data. The following tutorial will step you through the basic functions."
   ]
  },
  {
   "cell_type": "markdown",
   "metadata": {},
   "source": [
    "## Installation\n",
    "You can install the AuScope-Cat library from pypi.org as follows:\n",
    "```\n",
    "pip install auscopecat\n",
    "```"
   ]
  },
  {
   "cell_type": "code",
   "execution_count": null,
   "metadata": {},
   "outputs": [],
   "source": [
    "! pip install auscopecat"
   ]
  },
  {
   "cell_type": "markdown",
   "metadata": {},
   "source": [
    "## Searching\n",
    "### Searching for Downloadable Data\n",
    "To search for downloadable data, use the `search` function in the `api` module.\n",
    "```\n",
    "from auscopecat.api import search\n",
    "```\n",
    "The `search` function will search the AuScope Portal catalogue and return results that will facilitate the downloading of data with the `download` function (more on that later).\n",
    "```\n",
    "search(pattern: str, ogc_types: list[ServiceType] = None,\n",
    "       spatial_search_type: SpatialSearchType = None,\n",
    "       bbox: dict = None) -> list[SimpleNamespace]\n",
    "```\n",
    "##### Parameters\n",
    "\n",
    "| Name | Type | Description | Example | Required |\n",
    "| ------ | ------ | ------ | ------ | ------ |\n",
    "| pattern | string | The search string. If there are multiple words, any result that contains any one of the words will be considered a match. To match an exact series of words, use quotation marks, e.g. \"Mt Phillips\". | 'magnetite' | Yes |\n",
    "| ogc_types | List[ServiceType] | A list of auscope_types.ServiceType that define OGC service types of interest. Only results containing one or more of these services will be returned. | [ServiceType.WMS, ServiceType.WFS] | No |\n",
    "| spatial_search | SpatialSearchType | The type of spatial search to be performed with the supplied bounding box. More on spatial searching later. | SpatialSearch.INTERSECTS | No |\n",
    "| bbox | A dict containing 'north', 'east', 'south' and 'west' values | The bounding box to be used when performing a spatial search. The bounding box will only be applied if a spatial_search type has been set. | {'north': -31.456, 'east': 129.653, 'south': -33.234, 'west': 127.453} | No |\n",
    "\n",
    "The return object will be a list of Simplenamespace objects of the form:\n",
    "```\n",
    "namespace(url, type, name)\n",
    "```"
   ]
  },
  {
   "cell_type": "code",
   "execution_count": null,
   "metadata": {},
   "outputs": [],
   "source": [
    "from auscopecat.api import search\n",
    "from auscopecat.auscopecat_types import ServiceType\n",
    "\n",
    "# Search for results that contain the word \"magnetite\" and have a WMS resource\n",
    "search_results = search('magnetite', [ServiceType.WMS])\n",
    "print(f'Total hits: {len(search_results)}')\n",
    "print(search_results)\n"
   ]
  },
  {
   "cell_type": "markdown",
   "metadata": {},
   "source": [
    "### Searching for Records\n",
    "To search for records, use the `search_records` function in the `api` module.\n",
    "```\n",
    "from auscopecat.api import search_records\n",
    "```\n",
    "The search_records function allows you to search for more detailed information about records within the catalogue. The call is almost identical to searching for data, only the return objects are different.\n",
    "```\n",
    "search_records(pattern: str, ogc_types: list[ServiceType] = None,\n",
    "               spatial_search_type: SpatialSearchType = None,\n",
    "               bbox: dict = None) -> list[SimpleNamespace]\n",
    "```\n",
    "##### Parameters\n",
    "| Name | Type | Description | Example | Required |\n",
    "| ------ | ------ | ------ | ------ | ------ |\n",
    "| pattern | string | The search string. If there are multiple words, any result that contains any one of the words will be considered a match. To match an exact series of words, use quotation marks, e.g. \"Mt Phillips\". | 'magnetite' | Yes |\n",
    "| ogc_types | list[ServiceType] | A list of auscope_types.ServiceType that define OGC service types of interest. Only results containing one or more of these services will be returned. | [ServiceType.WMS, ServiceType.WFS] | No |\n",
    "| spatial_search | SpatialSearchType | The type of spatial search to be performed with the supplied bounding box. More on spatial searching later. | SpatialSearch.INTERSECTS | No |\n",
    "| bbox | A dict containing 'north', 'east', 'south' and 'west' values | The bounding box to be used when performing a spatial search. The bounding box will only be applied if a spatial_search type has been set. | {'north': -31.456, 'east': 129.653, 'south': -33.234, 'west': 127.453} | No |\n",
    "\n",
    "The return object will be a list of Simplenamespace objects of the form:\n",
    "```\n",
    "namespace(\n",
    "    id, name, description, record_info_url,\n",
    "    constraints[], use_limit_constraints[], access_constraints[], date,\n",
    "    geographic_elements[\n",
    "        namespace(type, east, west, north, south)\n",
    "    ],\n",
    "    online_resources[\n",
    "        namespace(url, type, name, description, version)\n",
    "    ]\n",
    ")\n",
    "```\n"
   ]
  },
  {
   "cell_type": "code",
   "execution_count": null,
   "metadata": {},
   "outputs": [],
   "source": [
    "from auscopecat.api import search_records\n",
    "from auscopecat.auscopecat_types import ServiceType\n",
    "\n",
    "# Search for results that contain the phrase \"Mt Philips\" (note the quotes) and have a WMS resource\n",
    "search_results = search_records('\"Mt Phillips\"', [ServiceType.WMS])\n",
    "if len(search_results) > 0:\n",
    "    print(f'Total hits: {len(search_results)}')\n",
    "    print(search_results)\n",
    "else:\n",
    "    print('No results returned')\n"
   ]
  },
  {
   "cell_type": "markdown",
   "metadata": {},
   "source": [
    "### Searching with Bounds\n",
    "To search with bounds, a spatial search type and a bounding box must both be provided.\n",
    "The spatial search types are imported from the auscopecat_types module:\n",
    "```\n",
    "from auscopecat.auscopecat_types import SpatialSearchType\n",
    "```\n",
    "The spatial search types are:\n",
    "| Name | Description |\n",
    "| ------ | ------ |\n",
    "| SpatialSearchType.INTERSECTS | The results will contain data that intersects in any way with the bounding box. |\n",
    "| SpatialSearchType.CONTAINS | The results will contain data that reside fully within the supplied bounding box. |\n",
    "| SpatialSearchType.WITHIN | The results will report bounds that are entirely enclosed by the bounding box. |"
   ]
  },
  {
   "cell_type": "code",
   "execution_count": null,
   "metadata": {},
   "outputs": [],
   "source": [
    "from auscopecat.api import search\n",
    "from auscopecat.auscopecat_types import SpatialSearchType\n",
    "\n",
    "# Convenience function to output results\n",
    "def output_results(results):\n",
    "    if len(results) > 0:\n",
    "        print(f'Total hits: {len(results)}')\n",
    "        print(results)\n",
    "    else:\n",
    "        print('No results returned')\n",
    "\n",
    "query = 'flinders'\n",
    "bbox = { \"north\": -32.648, \"east\": 138.698, \"south\": -34.157, \"west\": 137.379 }\n",
    "# Search without bounds\n",
    "search_results = search(query, [ServiceType.WFS])\n",
    "output_results(search_results)\n",
    "# Search with bounds (this should return a subset of the previous search limited to the specified bounds)\n",
    "search_results = search(query, [ServiceType.WFS], spatial_search_type=SpatialSearchType.INTERSECTS, bbox=bbox)\n",
    "output_results(search_results)"
   ]
  },
  {
   "cell_type": "markdown",
   "metadata": {},
   "source": [
    "## Downloading\n",
    "To download the data, you can use the `download` function in the `api` module.\n",
    "```\n",
    "from auscopecat.api import download\n",
    "```\n",
    "You can pass the results of `search` to the `download` function to download returned data, but there are a number of other parameters to help you fine tune results.\n",
    "```\n",
    "download(obj: SimpleNamespace, download_type: DownloadType,\n",
    "         bbox: dict = None, srs_name: str = 'EPSG:4326',\n",
    "         max_features: int = None, version: str = '1.1.0',\n",
    "         file_name: str = 'download.csv') -> any\n",
    "```\n",
    "##### Parameters\n",
    "| Name | Type | Description | Example | Required |\n",
    "| ------ | ------ | ------ | ------ | ------ |\n",
    "| obj | SimpleNamespace(url, type, name) | The search object, a SimpleNamespace objects with 'url', 'type' and 'name' attributes. | { 'url': 'http://13.211.217.129:8080/geoserver/wfs', 'type': 'WFS', 'name': 'SA:flinders_structures' } | Yes |\n",
    "| download_type | DownloadType | The type of download. | DownloadType.CSV | Yes |\n",
    "| bbox | A dict containing 'north', 'east', 'south' and 'west' values | The bounding box for the download data. Only results within the bounds will be returned. | { 'north':-31.456, 'east':129.653, 'south': -33.234, 'west': 127.453 } | Yes |\n",
    "| srs_name | string | The SRS name. | 'EPGS:4326' | No |\n",
    "| max_features | int | The maximum number of features to return. | 100 | No |\n",
    "| version | string | The WFS version. | '1.1.0' | No |\n",
    "| file_name | string | The file name (including path) for the download. | 'C:/mydir/mydownload.csv' | No |\n",
    "\n",
    "Calling the method will result in the file being downloaded to your device, barring any errors occurring."
   ]
  },
  {
   "cell_type": "code",
   "execution_count": null,
   "metadata": {},
   "outputs": [],
   "source": [
    "from auscopecat.api import download\n",
    "from auscopecat.api import search\n",
    "from auscopecat.auscopecat_types import DownloadType\n",
    "from auscopecat.auscopecat_types import ServiceType\n",
    "\n",
    "# Search for flinders_structures data\n",
    "query = 'flinders_structures'\n",
    "bbox = { \"north\": -32.648, \"east\": 138.698, \"south\": -34.157, \"west\": 137.379 }\n",
    "search_results = search(query, [ServiceType.WFS])\n",
    "if len(search_results) > 0:\n",
    "    print(f'Total hits: { len(search_results) }')\n",
    "    print(f'Downloading first result: { search_results[0] }')\n",
    "    # Download the first result\n",
    "    download(search_results[0], DownloadType.CSV, bbox)\n",
    "else:\n",
    "    print('No results returned')"
   ]
  }
 ],
 "metadata": {
  "kernelspec": {
   "display_name": "Python 3",
   "language": "python",
   "name": "python3"
  },
  "language_info": {
   "codemirror_mode": {
    "name": "ipython",
    "version": 3
   },
   "file_extension": ".py",
   "mimetype": "text/x-python",
   "name": "python",
   "nbconvert_exporter": "python",
   "pygments_lexer": "ipython3",
   "version": "3.11.9"
  }
 },
 "nbformat": 4,
 "nbformat_minor": 2
}
